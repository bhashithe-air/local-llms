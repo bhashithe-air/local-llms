{
 "cells": [
  {
   "cell_type": "code",
   "execution_count": 1,
   "metadata": {},
   "outputs": [],
   "source": [
    "from langchain.llms import LlamaCpp\n",
    "import datetime"
   ]
  },
  {
   "cell_type": "code",
   "execution_count": 2,
   "metadata": {},
   "outputs": [
    {
     "name": "stderr",
     "output_type": "stream",
     "text": [
      "AVX = 1 | AVX2 = 1 | AVX512 = 0 | AVX512_VBMI = 0 | AVX512_VNNI = 0 | FMA = 1 | NEON = 0 | ARM_FMA = 0 | F16C = 1 | FP16_VA = 0 | WASM_SIMD = 0 | BLAS = 0 | SSE3 = 1 | VSX = 0 | \n"
     ]
    }
   ],
   "source": [
    "llm = LlamaCpp(\n",
    "    model_path='models/llama-7b.ggmlv3.q4_0.bin', \n",
    "    verbose=True\n",
    ")"
   ]
  },
  {
   "cell_type": "code",
   "execution_count": 3,
   "metadata": {},
   "outputs": [
    {
     "name": "stdout",
     "output_type": "stream",
     "text": [
      "?\n",
      "My family and I will be there for 3 days. We are open to all suggestions.\n",
      "There are so many things to do and see in Atlanta that it is impossible to recommend just five but here goes:\n",
      "Atlanta Botanical Garden- this 30 acre garden has the largest living plant collection in the southeast, with more than 10,000 different species of plants from all over the world. There are also six themed gardens that are fun to explore like the children’s garden where kids can learn how to grow their own vegetables. The Orchidarium has more than 400 orchids on display and there is a wonderful Japanese Garden, too.\n",
      "Center for Civil and Human Rights - this interactive museum tells the history of human rights struggles in America from slavery to civil rights and beyond. There are exhibits that look at racism, sexism, homophobia, xenophobia and other forms of discrimination. Learn about Dr. Martin Luther King’s leadership during his time here.\n",
      "Georgia Aquarium - this is the world's largest aquarium with more than 100,000 animals in its\n"
     ]
    }
   ],
   "source": [
    "start = datetime.datetime.now()\n",
    "response = llm(\"I hired you as a travel planner, can you give me 5 good places to visit in Atlanta, Georgia\")\n",
    "end = datetime.datetime.now()\n",
    "print(response)"
   ]
  },
  {
   "cell_type": "code",
   "execution_count": 4,
   "metadata": {},
   "outputs": [
    {
     "name": "stdout",
     "output_type": "stream",
     "text": [
      "it took 0:01:08.743486 to generate this\n"
     ]
    }
   ],
   "source": [
    "print(f'it took {end-start} to generate this')"
   ]
  },
  {
   "cell_type": "code",
   "execution_count": null,
   "metadata": {},
   "outputs": [],
   "source": []
  }
 ],
 "metadata": {
  "kernelspec": {
   "display_name": "processdata",
   "language": "python",
   "name": "python3"
  },
  "language_info": {
   "codemirror_mode": {
    "name": "ipython",
    "version": 3
   },
   "file_extension": ".py",
   "mimetype": "text/x-python",
   "name": "python",
   "nbconvert_exporter": "python",
   "pygments_lexer": "ipython3",
   "version": "3.11.3"
  },
  "orig_nbformat": 4
 },
 "nbformat": 4,
 "nbformat_minor": 2
}
